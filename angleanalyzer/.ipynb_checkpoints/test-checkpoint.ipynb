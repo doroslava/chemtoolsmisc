{
 "cells": [
  {
   "cell_type": "code",
   "execution_count": 3,
   "metadata": {},
   "outputs": [],
   "source": [
    "import pandas\n",
    "#import numpy\n",
    "#import matplotlib.pyplot as plt\n",
    "#import seaborn\n",
    "#import os\n",
    "#from scipy.stats import ttest_ind, levene\n",
    "#from scipy.special import stdtr"
   ]
  },
  {
   "cell_type": "code",
   "execution_count": 518,
   "metadata": {},
   "outputs": [],
   "source": [
    "def read_descriptors(file_prefix, file_type, n_rep = 2):\n",
    "    \"\"\"\n",
    "    Function to read  descriptor files from MD simulations. It can\n",
    "    also read multiple replicas. For the input file it assumes that they\n",
    "    contain two columns - first for the time step and second for the measured \n",
    "    descriptor. It stores the replicas in the dictionary.\n",
    "    \n",
    "    Arguments:\n",
    "        file_prefix (char): file prefix for the files to be read\n",
    "        file_type (char) : file sufix (type) for the file to be read\n",
    "        n_rep (int) : number of the replicas to be read\n",
    "        \n",
    "    Returns:\n",
    "        descriptor_dict (dictionary): dictionary containing descriptor information\n",
    "        for every timestep of MD simulation. It can also contain information\n",
    "        for multiple replicas\n",
    "        \n",
    "    \"\"\"\n",
    "    descriptor_list = []\n",
    "    for i in range(n_rep):\n",
    "        file_name = file_prefix + str(i) + \".\" + file_type\n",
    "        descriptor_dict = pandas.read_csv(os.path.join(\"data/\", file_name), header=None, sep=\" \")\n",
    "        descriptor_dict[0] = descriptor_dict[0].astype(int)\n",
    "        descriptor_dict = descriptor_dict.rename(columns={1:file_prefix})\n",
    "        \n",
    "        descriptor_list.append(descriptor_dict)\n",
    "        \n",
    "    return descriptor_list"
   ]
  },
  {
   "cell_type": "code",
   "execution_count": 519,
   "metadata": {},
   "outputs": [],
   "source": [
    "chiDimerA = read_descriptors(\"ChiPHEA_\", \"xvg\", 2)\n",
    "distDimerA = read_descriptors(\"dist_\", \"xvg\", 2)"
   ]
  },
  {
   "cell_type": "code",
   "execution_count": 473,
   "metadata": {},
   "outputs": [],
   "source": [
    "def dict_to_dataframe(descr_dict_list):\n",
    "    \n",
    "    final_list = []\n",
    "    \n",
    "    num_descriptors = len(descr_dict_list)\n",
    "    num_replicas = len(descr_dict_list[0])\n",
    "    \n",
    "    for i in range(num_replicas):\n",
    "        \n",
    "        df = descr_dict_list[0][i][[0]]\n",
    "        \n",
    "        \n",
    "        for j in range(num_descriptors):\n",
    "                \n",
    "            df = df.merge(descr_dict_list[j][i], how = \"left\")\n",
    "                 \n",
    "        final_list.append(df)\n",
    "        \n",
    "    return (final_list)        \n",
    "    "
   ]
  },
  {
   "cell_type": "code",
   "execution_count": 102,
   "metadata": {},
   "outputs": [],
   "source": [
    "def define_conformation_states (descr_dict_list, treshold = [75, 0.75]):\n",
    "    \n",
    "    for i in descr_dict_list:\n",
    "        print (i)\n",
    "#    array1 = pandas.to_numeric(dataFrame1.iloc[:, 1]).abs()\n",
    "#    array2 = pandas.to_numeric(dataFrame2.iloc[:, 1]).abs()\n",
    "#    array = (array1 < treshold1) & (array2 < treshold2)\n",
    "#    array = array.replace(True, value=\"Open\")\n",
    "#    array = array.replace(False, value=\"Closed\")\n",
    "#    return (array)"
   ]
  }
 ],
 "metadata": {
  "kernelspec": {
   "display_name": "Python 3",
   "language": "python",
   "name": "python3"
  },
  "language_info": {
   "codemirror_mode": {
    "name": "ipython",
    "version": 3
   },
   "file_extension": ".py",
   "mimetype": "text/x-python",
   "name": "python",
   "nbconvert_exporter": "python",
   "pygments_lexer": "ipython3",
   "version": "3.6.10"
  }
 },
 "nbformat": 4,
 "nbformat_minor": 4
}
